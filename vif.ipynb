{
  "nbformat": 4,
  "nbformat_minor": 0,
  "metadata": {
    "colab": {
      "name": "vif.ipynb",
      "provenance": [],
      "collapsed_sections": [],
      "authorship_tag": "ABX9TyP7l2BqrQaNlbLLqpgcqTWA",
      "include_colab_link": true
    },
    "kernelspec": {
      "name": "python3",
      "display_name": "Python 3"
    },
    "language_info": {
      "name": "python"
    }
  },
  "cells": [
    {
      "cell_type": "markdown",
      "metadata": {
        "id": "view-in-github",
        "colab_type": "text"
      },
      "source": [
        "<a href=\"https://colab.research.google.com/github/kyleco/decision/blob/master/vif.ipynb\" target=\"_parent\"><img src=\"https://colab.research.google.com/assets/colab-badge.svg\" alt=\"Open In Colab\"/></a>"
      ]
    },
    {
      "cell_type": "code",
      "metadata": {
        "id": "jbbSxLJnajnD",
        "colab": {
          "base_uri": "https://localhost:8080/"
        },
        "outputId": "103be02d-c672-40e2-d9c7-3ab62e4da2d1"
      },
      "source": [
        "import pandas as pd\n",
        "import numpy as np\n",
        "import statsmodels.formula.api as smf\n",
        "import statsmodels.api as sm\n",
        "import statsmodels.stats as stats\n",
        "from statsmodels.stats import outliers_influence"
      ],
      "execution_count": 1,
      "outputs": [
        {
          "output_type": "stream",
          "name": "stderr",
          "text": [
            "/usr/local/lib/python3.7/dist-packages/statsmodels/tools/_testing.py:19: FutureWarning: pandas.util.testing is deprecated. Use the functions in the public API at pandas.testing instead.\n",
            "  import pandas.util.testing as tm\n"
          ]
        }
      ]
    },
    {
      "cell_type": "code",
      "metadata": {
        "id": "DLmtA4THaogB"
      },
      "source": [
        "# Setup the data\n",
        "# The DGP is something we could see in a linear regression course.\n",
        "# Everything is normally distributed.\n",
        "np.random.seed(91125)\n",
        "N = 100\n",
        "x1 = np.random.standard_normal(N)\n",
        "x2 = np.random.standard_normal(N)\n",
        "epsilon = np.random.standard_normal(N)  # IID normal error terms\n",
        "# Coefficients are 0.5 and 3\n",
        "y = 0.5 * x1 + 3 * x2 + epsilon\n",
        "df = pd.DataFrame({\n",
        "    'y': y,\n",
        "    'x1': x1,\n",
        "    'x2': x2\n",
        "})"
      ],
      "execution_count": 2,
      "outputs": []
    },
    {
      "cell_type": "code",
      "metadata": {
        "id": "hIym4fxzbBvd"
      },
      "source": [
        "# Fit two models:\n",
        "model1 = smf.ols(\"y ~ x1\", df).fit()  # Omit regressor x2\n",
        "model2 = smf.ols(\"y ~ x1 + x2\", df).fit()  # Include x2"
      ],
      "execution_count": 3,
      "outputs": []
    },
    {
      "cell_type": "code",
      "metadata": {
        "colab": {
          "base_uri": "https://localhost:8080/"
        },
        "id": "FfuSdX4ibQ8n",
        "outputId": "16954fca-8016-46f0-cfa4-6a22bce06f4e"
      },
      "source": [
        "# Model 2 includes the additional regressor x2, but it has a smaller standard error on x1.\n",
        "print(model1.bse['x1'] > model2.bse['x1'])\n",
        "print(model1.summary())\n",
        "print(model2.summary())"
      ],
      "execution_count": 4,
      "outputs": [
        {
          "output_type": "stream",
          "name": "stdout",
          "text": [
            "True\n",
            "                            OLS Regression Results                            \n",
            "==============================================================================\n",
            "Dep. Variable:                      y   R-squared:                       0.059\n",
            "Model:                            OLS   Adj. R-squared:                  0.049\n",
            "Method:                 Least Squares   F-statistic:                     6.133\n",
            "Date:                Mon, 29 Nov 2021   Prob (F-statistic):             0.0150\n",
            "Time:                        18:06:47   Log-Likelihood:                -252.24\n",
            "No. Observations:                 100   AIC:                             508.5\n",
            "Df Residuals:                      98   BIC:                             513.7\n",
            "Df Model:                           1                                         \n",
            "Covariance Type:            nonrobust                                         \n",
            "==============================================================================\n",
            "                 coef    std err          t      P>|t|      [0.025      0.975]\n",
            "------------------------------------------------------------------------------\n",
            "Intercept     -0.6497      0.306     -2.124      0.036      -1.257      -0.043\n",
            "x1             0.7761      0.313      2.477      0.015       0.154       1.398\n",
            "==============================================================================\n",
            "Omnibus:                        0.361   Durbin-Watson:                   1.984\n",
            "Prob(Omnibus):                  0.835   Jarque-Bera (JB):                0.350\n",
            "Skew:                          -0.137   Prob(JB):                        0.840\n",
            "Kurtosis:                       2.905   Cond. No.                         1.10\n",
            "==============================================================================\n",
            "\n",
            "Warnings:\n",
            "[1] Standard Errors assume that the covariance matrix of the errors is correctly specified.\n",
            "                            OLS Regression Results                            \n",
            "==============================================================================\n",
            "Dep. Variable:                      y   R-squared:                       0.915\n",
            "Model:                            OLS   Adj. R-squared:                  0.913\n",
            "Method:                 Least Squares   F-statistic:                     522.5\n",
            "Date:                Mon, 29 Nov 2021   Prob (F-statistic):           1.16e-52\n",
            "Time:                        18:06:47   Log-Likelihood:                -131.98\n",
            "No. Observations:                 100   AIC:                             270.0\n",
            "Df Residuals:                      97   BIC:                             277.8\n",
            "Df Model:                           2                                         \n",
            "Covariance Type:            nonrobust                                         \n",
            "==============================================================================\n",
            "                 coef    std err          t      P>|t|      [0.025      0.975]\n",
            "------------------------------------------------------------------------------\n",
            "Intercept      0.0278      0.095      0.293      0.770      -0.160       0.216\n",
            "x1             0.7309      0.095      7.722      0.000       0.543       0.919\n",
            "x2             3.0574      0.098     31.268      0.000       2.863       3.251\n",
            "==============================================================================\n",
            "Omnibus:                       10.089   Durbin-Watson:                   1.809\n",
            "Prob(Omnibus):                  0.006   Jarque-Bera (JB):                3.633\n",
            "Skew:                          -0.074   Prob(JB):                        0.163\n",
            "Kurtosis:                       2.078   Cond. No.                         1.29\n",
            "==============================================================================\n",
            "\n",
            "Warnings:\n",
            "[1] Standard Errors assume that the covariance matrix of the errors is correctly specified.\n"
          ]
        }
      ]
    },
    {
      "cell_type": "code",
      "metadata": {
        "colab": {
          "base_uri": "https://localhost:8080/"
        },
        "id": "NEYj96DXbSWJ",
        "outputId": "c659a21e-4700-468d-8930-178c868fd5d3"
      },
      "source": [
        "# Both variance inflation factors > 1\n",
        "# because the VIF does not mean the change in the SE\n",
        "# from adding/remove a variable.\n",
        "print(outliers_influence.variance_inflation_factor(df[['x1', 'x2']].values, 0))\n",
        "print(outliers_influence.variance_inflation_factor(df[['x1', 'x2']].values, 1))"
      ],
      "execution_count": 5,
      "outputs": [
        {
          "output_type": "stream",
          "name": "stdout",
          "text": [
            "1.001346766113385\n",
            "1.0013467661133848\n"
          ]
        }
      ]
    },
    {
      "cell_type": "code",
      "metadata": {
        "id": "jY918FWg4AO0"
      },
      "source": [
        ""
      ],
      "execution_count": 5,
      "outputs": []
    }
  ]
}